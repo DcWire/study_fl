{
 "cells": [
  {
   "cell_type": "code",
   "execution_count": 22,
   "id": "8061bb55-ca85-400c-afde-08040b80ca3f",
   "metadata": {},
   "outputs": [],
   "source": [
    "import torch\n",
    "from torch import nn\n",
    "from torchvision import datasets\n",
    "import fastai \n",
    "from torchvision.transforms import ToTensor\n",
    "# from fastai.data.core import DataLoader\n",
    "from torch.utils.data import DataLoader"
   ]
  },
  {
   "cell_type": "code",
   "execution_count": 3,
   "id": "3efb759c-b439-415a-b852-49ba6288a831",
   "metadata": {},
   "outputs": [],
   "source": [
    "model = nn.Sequential(\n",
    "    nn.Linear(28*28, 30),\n",
    "    nn.ReLU(), \n",
    "    nn.Linear(28*28, 10)\n",
    ")"
   ]
  },
  {
   "cell_type": "code",
   "execution_count": 5,
   "id": "660669d2-0745-4ebc-8fa2-a79d5137601c",
   "metadata": {},
   "outputs": [
    {
     "name": "stdout",
     "output_type": "stream",
     "text": [
      "Downloading http://yann.lecun.com/exdb/mnist/train-images-idx3-ubyte.gz\n",
      "Failed to download (trying next):\n",
      "HTTP Error 403: Forbidden\n",
      "\n",
      "Downloading https://ossci-datasets.s3.amazonaws.com/mnist/train-images-idx3-ubyte.gz\n",
      "Downloading https://ossci-datasets.s3.amazonaws.com/mnist/train-images-idx3-ubyte.gz to data/MNIST/raw/train-images-idx3-ubyte.gz\n"
     ]
    },
    {
     "name": "stderr",
     "output_type": "stream",
     "text": [
      "100%|██████████| 9.91M/9.91M [00:01<00:00, 9.70MB/s]\n"
     ]
    },
    {
     "name": "stdout",
     "output_type": "stream",
     "text": [
      "Extracting data/MNIST/raw/train-images-idx3-ubyte.gz to data/MNIST/raw\n",
      "\n",
      "Downloading http://yann.lecun.com/exdb/mnist/train-labels-idx1-ubyte.gz\n",
      "Failed to download (trying next):\n",
      "HTTP Error 403: Forbidden\n",
      "\n",
      "Downloading https://ossci-datasets.s3.amazonaws.com/mnist/train-labels-idx1-ubyte.gz\n",
      "Downloading https://ossci-datasets.s3.amazonaws.com/mnist/train-labels-idx1-ubyte.gz to data/MNIST/raw/train-labels-idx1-ubyte.gz\n"
     ]
    },
    {
     "name": "stderr",
     "output_type": "stream",
     "text": [
      "100%|██████████| 28.9k/28.9k [00:00<00:00, 885kB/s]\n"
     ]
    },
    {
     "name": "stdout",
     "output_type": "stream",
     "text": [
      "Extracting data/MNIST/raw/train-labels-idx1-ubyte.gz to data/MNIST/raw\n",
      "\n",
      "Downloading http://yann.lecun.com/exdb/mnist/t10k-images-idx3-ubyte.gz\n",
      "Failed to download (trying next):\n",
      "HTTP Error 403: Forbidden\n",
      "\n",
      "Downloading https://ossci-datasets.s3.amazonaws.com/mnist/t10k-images-idx3-ubyte.gz\n",
      "Downloading https://ossci-datasets.s3.amazonaws.com/mnist/t10k-images-idx3-ubyte.gz to data/MNIST/raw/t10k-images-idx3-ubyte.gz\n"
     ]
    },
    {
     "name": "stderr",
     "output_type": "stream",
     "text": [
      "100%|██████████| 1.65M/1.65M [00:00<00:00, 7.16MB/s]\n"
     ]
    },
    {
     "name": "stdout",
     "output_type": "stream",
     "text": [
      "Extracting data/MNIST/raw/t10k-images-idx3-ubyte.gz to data/MNIST/raw\n",
      "\n",
      "Downloading http://yann.lecun.com/exdb/mnist/t10k-labels-idx1-ubyte.gz\n",
      "Failed to download (trying next):\n",
      "HTTP Error 403: Forbidden\n",
      "\n",
      "Downloading https://ossci-datasets.s3.amazonaws.com/mnist/t10k-labels-idx1-ubyte.gz\n",
      "Downloading https://ossci-datasets.s3.amazonaws.com/mnist/t10k-labels-idx1-ubyte.gz to data/MNIST/raw/t10k-labels-idx1-ubyte.gz\n"
     ]
    },
    {
     "name": "stderr",
     "output_type": "stream",
     "text": [
      "100%|██████████| 4.54k/4.54k [00:00<00:00, 3.10MB/s]"
     ]
    },
    {
     "name": "stdout",
     "output_type": "stream",
     "text": [
      "Extracting data/MNIST/raw/t10k-labels-idx1-ubyte.gz to data/MNIST/raw\n",
      "\n"
     ]
    },
    {
     "name": "stderr",
     "output_type": "stream",
     "text": [
      "\n"
     ]
    }
   ],
   "source": [
    "training_data = datasets.MNIST(\n",
    "    root=\"data\",\n",
    "    train=True,\n",
    "    download=True,\n",
    "    transform=ToTensor(),\n",
    ")\n",
    "\n",
    "# Download test data from open datasets.\n",
    "test_data = datasets.MNIST(\n",
    "    root=\"data\",\n",
    "    train=False,\n",
    "    download=True,\n",
    "    transform=ToTensor(),\n",
    ")"
   ]
  },
  {
   "cell_type": "code",
   "execution_count": 24,
   "id": "bf5f5446-9293-4d23-8eac-88821434bcbc",
   "metadata": {},
   "outputs": [
    {
     "name": "stdout",
     "output_type": "stream",
     "text": [
      "Shape of X [N, C, H, W]: torch.Size([256, 1, 28, 28])\n",
      "Shape of y: torch.Size([256]) torch.int64\n"
     ]
    }
   ],
   "source": [
    "batch_size = 256\n",
    "\n",
    "# Create data loaders.\n",
    "train_dataloader = DataLoader(training_data, batch_size=batch_size)\n",
    "test_dataloader = DataLoader(test_data, batch_size=batch_size)\n",
    "\n",
    "for X, y in test_dataloader:\n",
    "    print(f\"Shape of X [N, C, H, W]: {X.shape}\")\n",
    "    print(f\"Shape of y: {y.shape} {y.dtype}\")\n",
    "    break"
   ]
  },
  {
   "cell_type": "code",
   "execution_count": 25,
   "id": "378c3815-1e63-49f2-94d0-deda07564892",
   "metadata": {},
   "outputs": [
    {
     "name": "stdout",
     "output_type": "stream",
     "text": [
      "Using cuda device\n"
     ]
    }
   ],
   "source": [
    "# Get cpu, gpu or mps device for training.\n",
    "device = (\n",
    "    \"cuda\"\n",
    "    if torch.cuda.is_available()\n",
    "    else \"mps\"\n",
    "    if torch.backends.mps.is_available()\n",
    "    else \"cpu\"\n",
    ")\n",
    "print(f\"Using {device} device\")"
   ]
  },
  {
   "cell_type": "code",
   "execution_count": 26,
   "id": "518bad87-0636-41e5-bbf7-413f723318b2",
   "metadata": {},
   "outputs": [
    {
     "data": {
      "text/plain": [
       "NeuralNetwork(\n",
       "  (flatten): Flatten(start_dim=1, end_dim=-1)\n",
       "  (linear_relu_stack): Sequential(\n",
       "    (0): Linear(in_features=784, out_features=512, bias=True)\n",
       "    (1): ReLU()\n",
       "    (2): Linear(in_features=512, out_features=512, bias=True)\n",
       "    (3): ReLU()\n",
       "    (4): Linear(in_features=512, out_features=10, bias=True)\n",
       "  )\n",
       ")"
      ]
     },
     "execution_count": 26,
     "metadata": {},
     "output_type": "execute_result"
    }
   ],
   "source": [
    "class NeuralNetwork(nn.Module):\n",
    "    def __init__(self):\n",
    "        super().__init__()\n",
    "        self.flatten = nn.Flatten()\n",
    "        self.linear_relu_stack = nn.Sequential(\n",
    "            nn.Linear(28*28, 512),\n",
    "            nn.ReLU(),\n",
    "            nn.Linear(512, 512),\n",
    "            nn.ReLU(),\n",
    "            nn.Linear(512, 10)\n",
    "        )\n",
    "\n",
    "    def forward(self, x):\n",
    "        x = self.flatten(x)\n",
    "        logits = self.linear_relu_stack(x)\n",
    "        return logits\n",
    "\n",
    "model = NeuralNetwork().to(device)\n",
    "model"
   ]
  },
  {
   "cell_type": "code",
   "execution_count": 27,
   "id": "3c40a001-83ae-42f5-844b-d3903322d2b3",
   "metadata": {},
   "outputs": [],
   "source": [
    "loss_fn = nn.CrossEntropyLoss()\n",
    "optimizer = torch.optim.SGD(model.parameters(), lr=1e-3)"
   ]
  },
  {
   "cell_type": "code",
   "execution_count": 28,
   "id": "06216d55-b71e-4e1a-9558-78185b4890a2",
   "metadata": {},
   "outputs": [],
   "source": [
    "def train(dataloader, model, loss_fn, optimizer):\n",
    "    size = len(dataloader.dataset)\n",
    "    model.train()\n",
    "    for batch, (X, y) in enumerate(dataloader):\n",
    "        X, y = X.to(device), y.to(device)\n",
    "\n",
    "        # Compute prediction error\n",
    "        pred = model(X)\n",
    "        loss = loss_fn(pred, y)\n",
    "\n",
    "        # Backpropagation\n",
    "        loss.backward()\n",
    "        optimizer.step()\n",
    "        optimizer.zero_grad()\n",
    "\n",
    "        if batch % 100 == 0:\n",
    "            loss, current = loss.item(), (batch + 1) * len(X)\n",
    "            print(f\"loss: {loss:>7f}  [{current:>5d}/{size:>5d}]\")\n"
   ]
  },
  {
   "cell_type": "code",
   "execution_count": 29,
   "id": "1d80bf18-403a-4cd2-b27f-5a1721268f04",
   "metadata": {},
   "outputs": [],
   "source": [
    "def test(dataloader, model, loss_fn):\n",
    "    size = len(dataloader.dataset)\n",
    "    num_batches = len(dataloader)\n",
    "    model.eval()\n",
    "    test_loss, correct = 0, 0\n",
    "    with torch.no_grad():\n",
    "        for X, y in dataloader:\n",
    "            X, y = X.to(device), y.to(device)\n",
    "            pred = model(X)\n",
    "            test_loss += loss_fn(pred, y).item()\n",
    "            correct += (pred.argmax(1) == y).type(torch.float).sum().item()\n",
    "    test_loss /= num_batches\n",
    "    correct /= size\n",
    "    print(f\"Test Error: \\n Accuracy: {(100*correct):>0.1f}%, Avg loss: {test_loss:>8f} \\n\")"
   ]
  },
  {
   "cell_type": "code",
   "execution_count": 34,
   "id": "c9241482-13d9-493f-8c96-14d8eeea07e4",
   "metadata": {},
   "outputs": [
    {
     "name": "stdout",
     "output_type": "stream",
     "text": [
      "Epoch 1\n",
      "-------------------------------\n",
      "loss: 0.520474  [  256/60000]\n",
      "loss: 0.464189  [25856/60000]\n",
      "loss: 0.517911  [51456/60000]\n",
      "Test Error: \n",
      " Accuracy: 87.5%, Avg loss: 0.478788 \n",
      "\n",
      "Epoch 2\n",
      "-------------------------------\n",
      "loss: 0.513910  [  256/60000]\n",
      "loss: 0.457871  [25856/60000]\n",
      "loss: 0.511859  [51456/60000]\n",
      "Test Error: \n",
      " Accuracy: 87.6%, Avg loss: 0.472679 \n",
      "\n",
      "Epoch 3\n",
      "-------------------------------\n",
      "loss: 0.507655  [  256/60000]\n",
      "loss: 0.451856  [25856/60000]\n",
      "loss: 0.506074  [51456/60000]\n",
      "Test Error: \n",
      " Accuracy: 87.8%, Avg loss: 0.466867 \n",
      "\n",
      "Epoch 4\n",
      "-------------------------------\n",
      "loss: 0.501698  [  256/60000]\n",
      "loss: 0.446125  [25856/60000]\n",
      "loss: 0.500532  [51456/60000]\n",
      "Test Error: \n",
      " Accuracy: 87.9%, Avg loss: 0.461331 \n",
      "\n",
      "Epoch 5\n",
      "-------------------------------\n",
      "loss: 0.496013  [  256/60000]\n",
      "loss: 0.440655  [25856/60000]\n",
      "loss: 0.495227  [51456/60000]\n",
      "Test Error: \n",
      " Accuracy: 88.0%, Avg loss: 0.456052 \n",
      "\n",
      "Epoch 6\n",
      "-------------------------------\n",
      "loss: 0.490580  [  256/60000]\n",
      "loss: 0.435434  [25856/60000]\n",
      "loss: 0.490143  [51456/60000]\n",
      "Test Error: \n",
      " Accuracy: 88.1%, Avg loss: 0.451013 \n",
      "\n",
      "Epoch 7\n",
      "-------------------------------\n",
      "loss: 0.485379  [  256/60000]\n",
      "loss: 0.430442  [25856/60000]\n",
      "loss: 0.485266  [51456/60000]\n",
      "Test Error: \n",
      " Accuracy: 88.2%, Avg loss: 0.446199 \n",
      "\n",
      "Epoch 8\n",
      "-------------------------------\n",
      "loss: 0.480402  [  256/60000]\n",
      "loss: 0.425671  [25856/60000]\n",
      "loss: 0.480574  [51456/60000]\n",
      "Test Error: \n",
      " Accuracy: 88.3%, Avg loss: 0.441595 \n",
      "\n",
      "Epoch 9\n",
      "-------------------------------\n",
      "loss: 0.475631  [  256/60000]\n",
      "loss: 0.421104  [25856/60000]\n",
      "loss: 0.476057  [51456/60000]\n",
      "Test Error: \n",
      " Accuracy: 88.4%, Avg loss: 0.437187 \n",
      "\n",
      "Epoch 10\n",
      "-------------------------------\n",
      "loss: 0.471056  [  256/60000]\n",
      "loss: 0.416725  [25856/60000]\n",
      "loss: 0.471706  [51456/60000]\n",
      "Test Error: \n",
      " Accuracy: 88.4%, Avg loss: 0.432965 \n",
      "\n",
      "Epoch 11\n",
      "-------------------------------\n",
      "loss: 0.466661  [  256/60000]\n",
      "loss: 0.412524  [25856/60000]\n",
      "loss: 0.467521  [51456/60000]\n",
      "Test Error: \n",
      " Accuracy: 88.4%, Avg loss: 0.428915 \n",
      "\n",
      "Epoch 12\n",
      "-------------------------------\n",
      "loss: 0.462439  [  256/60000]\n",
      "loss: 0.408487  [25856/60000]\n",
      "loss: 0.463483  [51456/60000]\n",
      "Test Error: \n",
      " Accuracy: 88.5%, Avg loss: 0.425028 \n",
      "\n",
      "Epoch 13\n",
      "-------------------------------\n",
      "loss: 0.458382  [  256/60000]\n",
      "loss: 0.404607  [25856/60000]\n",
      "loss: 0.459580  [51456/60000]\n",
      "Test Error: \n",
      " Accuracy: 88.5%, Avg loss: 0.421296 \n",
      "\n",
      "Epoch 14\n",
      "-------------------------------\n",
      "loss: 0.454479  [  256/60000]\n",
      "loss: 0.400880  [25856/60000]\n",
      "loss: 0.455813  [51456/60000]\n",
      "Test Error: \n",
      " Accuracy: 88.7%, Avg loss: 0.417709 \n",
      "\n",
      "Epoch 15\n",
      "-------------------------------\n",
      "loss: 0.450722  [  256/60000]\n",
      "loss: 0.397294  [25856/60000]\n",
      "loss: 0.452170  [51456/60000]\n",
      "Test Error: \n",
      " Accuracy: 88.7%, Avg loss: 0.414259 \n",
      "\n",
      "Epoch 16\n",
      "-------------------------------\n",
      "loss: 0.447102  [  256/60000]\n",
      "loss: 0.393839  [25856/60000]\n",
      "loss: 0.448641  [51456/60000]\n",
      "Test Error: \n",
      " Accuracy: 88.8%, Avg loss: 0.410938 \n",
      "\n",
      "Epoch 17\n",
      "-------------------------------\n",
      "loss: 0.443606  [  256/60000]\n",
      "loss: 0.390508  [25856/60000]\n",
      "loss: 0.445225  [51456/60000]\n",
      "Test Error: \n",
      " Accuracy: 88.9%, Avg loss: 0.407740 \n",
      "\n",
      "Epoch 18\n",
      "-------------------------------\n",
      "loss: 0.440229  [  256/60000]\n",
      "loss: 0.387298  [25856/60000]\n",
      "loss: 0.441916  [51456/60000]\n",
      "Test Error: \n",
      " Accuracy: 88.9%, Avg loss: 0.404658 \n",
      "\n",
      "Epoch 19\n",
      "-------------------------------\n",
      "loss: 0.436966  [  256/60000]\n",
      "loss: 0.384199  [25856/60000]\n",
      "loss: 0.438704  [51456/60000]\n",
      "Test Error: \n",
      " Accuracy: 89.0%, Avg loss: 0.401685 \n",
      "\n",
      "Epoch 20\n",
      "-------------------------------\n",
      "loss: 0.433811  [  256/60000]\n",
      "loss: 0.381206  [25856/60000]\n",
      "loss: 0.435584  [51456/60000]\n",
      "Test Error: \n",
      " Accuracy: 89.1%, Avg loss: 0.398817 \n",
      "\n",
      "Done!\n"
     ]
    }
   ],
   "source": [
    "epochs = 20\n",
    "for t in range(epochs):\n",
    "    print(f\"Epoch {t+1}\\n-------------------------------\")\n",
    "    train(train_dataloader, model, loss_fn, optimizer)\n",
    "    test(test_dataloader, model, loss_fn)\n",
    "print(\"Done!\")"
   ]
  },
  {
   "cell_type": "code",
   "execution_count": null,
   "id": "0510bf8b-eac9-46a5-a77a-ffc5afdf7497",
   "metadata": {},
   "outputs": [],
   "source": []
  }
 ],
 "metadata": {
  "kernelspec": {
   "display_name": "Python 3 (ipykernel)",
   "language": "python",
   "name": "python3"
  },
  "language_info": {
   "codemirror_mode": {
    "name": "ipython",
    "version": 3
   },
   "file_extension": ".py",
   "mimetype": "text/x-python",
   "name": "python",
   "nbconvert_exporter": "python",
   "pygments_lexer": "ipython3",
   "version": "3.11.10"
  }
 },
 "nbformat": 4,
 "nbformat_minor": 5
}
