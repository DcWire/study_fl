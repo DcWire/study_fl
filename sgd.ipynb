{
 "cells": [
  {
   "cell_type": "code",
   "execution_count": 49,
   "id": "8061bb55-ca85-400c-afde-08040b80ca3f",
   "metadata": {},
   "outputs": [],
   "source": [
    "import torch\n",
    "from torch import nn\n",
    "from torchvision import datasets\n",
    "import fastai \n",
    "from torchvision.transforms import ToTensor\n",
    "# from fastai.data.core import DataLoader\n",
    "from torch.utils.data import DataLoader\n",
    "from fastai.data.core import DataLoaders\n",
    "from fastai.vision.all import Learner, Metric\n",
    "from fastai import optimizer\n"
   ]
  },
  {
   "cell_type": "code",
   "execution_count": 2,
   "id": "3efb759c-b439-415a-b852-49ba6288a831",
   "metadata": {},
   "outputs": [],
   "source": [
    "model = nn.Sequential(\n",
    "    nn.Linear(28*28, 30),\n",
    "    nn.ReLU(), \n",
    "    nn.Linear(28*28, 10)\n",
    ")"
   ]
  },
  {
   "cell_type": "code",
   "execution_count": 3,
   "id": "660669d2-0745-4ebc-8fa2-a79d5137601c",
   "metadata": {},
   "outputs": [],
   "source": [
    "training_data = datasets.MNIST(\n",
    "    root=\"data\",\n",
    "    train=True,\n",
    "    download=True,\n",
    "    transform=ToTensor(),\n",
    ")\n",
    "\n",
    "# Download test data from open datasets.\n",
    "test_data = datasets.MNIST(\n",
    "    root=\"data\",\n",
    "    train=False,\n",
    "    download=True,\n",
    "    transform=ToTensor(),\n",
    ")"
   ]
  },
  {
   "cell_type": "code",
   "execution_count": 4,
   "id": "bf5f5446-9293-4d23-8eac-88821434bcbc",
   "metadata": {},
   "outputs": [
    {
     "name": "stdout",
     "output_type": "stream",
     "text": [
      "Shape of X [N, C, H, W]: torch.Size([256, 1, 28, 28])\n",
      "Shape of y: torch.Size([256]) torch.int64\n"
     ]
    }
   ],
   "source": [
    "batch_size = 256\n",
    "\n",
    "# Create data loaders.\n",
    "train_dataloader = DataLoader(training_data, batch_size=batch_size)\n",
    "test_dataloader = DataLoader(test_data, batch_size=batch_size)\n",
    "\n",
    "for X, y in test_dataloader:\n",
    "    print(f\"Shape of X [N, C, H, W]: {X.shape}\")\n",
    "    print(f\"Shape of y: {y.shape} {y.dtype}\")\n",
    "    break"
   ]
  },
  {
   "cell_type": "code",
   "execution_count": 5,
   "id": "378c3815-1e63-49f2-94d0-deda07564892",
   "metadata": {},
   "outputs": [
    {
     "name": "stdout",
     "output_type": "stream",
     "text": [
      "Using cuda device\n"
     ]
    }
   ],
   "source": [
    "# Get cpu, gpu or mps device for training.\n",
    "device = (\n",
    "    \"cuda\"\n",
    "    if torch.cuda.is_available()\n",
    "    else \"mps\"\n",
    "    if torch.backends.mps.is_available()\n",
    "    else \"cpu\"\n",
    ")\n",
    "print(f\"Using {device} device\")"
   ]
  },
  {
   "cell_type": "code",
   "execution_count": 62,
   "id": "141fef0a-e733-4a0e-ac8f-f9423d8c1c6f",
   "metadata": {},
   "outputs": [
    {
     "data": {
      "text/plain": [
       "NeuralNetwork(\n",
       "  (flatten): Flatten(start_dim=1, end_dim=-1)\n",
       "  (linear_relu_stack): Sequential(\n",
       "    (0): Linear(in_features=784, out_features=512, bias=True)\n",
       "    (1): ReLU()\n",
       "    (2): Linear(in_features=512, out_features=512, bias=True)\n",
       "    (3): ReLU()\n",
       "    (4): Linear(in_features=512, out_features=10, bias=True)\n",
       "  )\n",
       ")"
      ]
     },
     "execution_count": 62,
     "metadata": {},
     "output_type": "execute_result"
    }
   ],
   "source": [
    "class NeuralNetwork(nn.Module):\n",
    "    def __init__(self):\n",
    "        super().__init__()\n",
    "        self.flatten = nn.Flatten()\n",
    "        self.linear_relu_stack = nn.Sequential(\n",
    "            nn.Linear(28*28, 512),\n",
    "            nn.ReLU(), \n",
    "            nn.Linear(512, 512),\n",
    "            nn.ReLU(),\n",
    "            nn.Linear(512, 10)\n",
    "        )\n",
    "\n",
    "    def forward(self, x):\n",
    "        x = self.flatten(x)\n",
    "        logits = self.linear_relu_stack(x)\n",
    "        return logits \n",
    "\n",
    "model = NeuralNetwork().to(device)\n",
    "model\n"
   ]
  },
  {
   "cell_type": "code",
   "execution_count": 7,
   "id": "3c40a001-83ae-42f5-844b-d3903322d2b3",
   "metadata": {},
   "outputs": [],
   "source": [
    "loss_fn = nn.CrossEntropyLoss()\n",
    "optimizer = torch.optim.SGD(model.parameters(), lr=1e-3)"
   ]
  },
  {
   "cell_type": "code",
   "execution_count": 63,
   "id": "65cebe2e-8647-4ea5-8f96-4e8f76e14854",
   "metadata": {},
   "outputs": [],
   "source": [
    "class BasicOptimizer:\n",
    "    def __init__(self, params, lr): \n",
    "        self.params,self.lr = list(params),lr\n",
    "        self.state = {p: {} for p in self.params}\n",
    "        self.hypers = [{'lr': lr}]\n",
    "        \n",
    "    def step(self, *args, **kwargs):\n",
    "        for p in self.params: \n",
    "            p.data -= p.grad.data * self.lr\n",
    "\n",
    "    def zero_grad(self, *args, **kwargs):\n",
    "        for p in self.params:\n",
    "            p.grad = None\n",
    "\n",
    "    def set_hypers(self, **kwargs):\n",
    "        if 'lr' in kwargs:\n",
    "            self.lr = kwargs['lr']\n",
    "            self.hypers[0]['lr'] = kwargs['lr']\n",
    "            \n",
    "optimizer = BasicOptimizer(model.parameters(), lr=1)"
   ]
  },
  {
   "cell_type": "code",
   "execution_count": null,
   "id": "b5752d5e-bc9b-4517-91e2-a0c93fae306f",
   "metadata": {},
   "outputs": [],
   "source": []
  },
  {
   "cell_type": "code",
   "execution_count": 9,
   "id": "06216d55-b71e-4e1a-9558-78185b4890a2",
   "metadata": {},
   "outputs": [],
   "source": [
    "def train(dataloader, model, loss_fn, optimizer):\n",
    "    size = len(dataloader.dataset)\n",
    "    model.train()\n",
    "    for batch, (X, y) in enumerate(dataloader):\n",
    "        X, y = X.to(device), y.to(device)\n",
    "\n",
    "        # Compute prediction error\n",
    "        pred = model(X)\n",
    "        loss = loss_fn(pred, y)\n",
    "\n",
    "        # Backpropagation\n",
    "        loss.backward()\n",
    "        optimizer.step()\n",
    "        optimizer.zero_grad()\n",
    "\n",
    "        if batch % 100 == 0:\n",
    "            print(f\"BATCH: {batch} of {size/batch_size} batches\")\n",
    "            loss, current = loss.item(), (batch + 1) * len(X)\n",
    "            print(f\"loss: {loss:>7f}  [{current:>5d}/{size:>5d}]\")\n"
   ]
  },
  {
   "cell_type": "code",
   "execution_count": 11,
   "id": "1d80bf18-403a-4cd2-b27f-5a1721268f04",
   "metadata": {},
   "outputs": [],
   "source": [
    "def test(dataloader, model, loss_fn):\n",
    "    size = len(dataloader.dataset)\n",
    "    num_batches = len(dataloader)\n",
    "    model.eval()\n",
    "    test_loss, correct = 0, 0\n",
    "    with torch.no_grad():\n",
    "        for X, y in dataloader:\n",
    "            X, y = X.to(device), y.to(device)\n",
    "            pred = model(X)\n",
    "            test_loss += loss_fn(pred, y).item()\n",
    "            correct += (pred.argmax(1) == y).type(torch.float).sum().item()\n",
    "    test_loss /= num_batches\n",
    "    correct /= size\n",
    "    print(f\"Test Error: \\n Accuracy: {(100*correct):>0.1f}%, Avg loss: {test_loss:>8f} \\n\")\n",
    "    "
   ]
  },
  {
   "cell_type": "code",
   "execution_count": 15,
   "id": "f1c37864-ee5c-4e3b-94dc-a3ac3b9ded85",
   "metadata": {},
   "outputs": [],
   "source": [
    "dls = DataLoaders(train_dataloader, test_dataloader)"
   ]
  },
  {
   "cell_type": "code",
   "execution_count": 80,
   "id": "6a978866-4f54-4f67-a817-925360d82a96",
   "metadata": {},
   "outputs": [],
   "source": [
    "class CustomAccuracy1(Metric):\n",
    "    def __init__(self):\n",
    "        self.correct = 0\n",
    "        self.total = 0\n",
    "\n",
    "    def reset(self):\n",
    "        self.correct = 0\n",
    "        self.total = 0\n",
    "\n",
    "    def accumulate(self, learn):\n",
    "        # Get max probability of the final dimension\n",
    "        preds = learn.pred.argmax(dim=-1)\n",
    "        self.correct += (preds == learn.y).sum().item()\n",
    "        self.total += len(learn.y)\n",
    "\n",
    "    @property\n",
    "    def value(self):\n",
    "        return (self.correct / self.total) * 100 if self.total > 0 else None\n",
    "\n",
    "    @property\n",
    "    def name(self):\n",
    "        return \"meowMeow1\""
   ]
  },
  {
   "cell_type": "code",
   "execution_count": 81,
   "id": "301a5688-1791-450e-8521-1b12f13d6385",
   "metadata": {},
   "outputs": [],
   "source": [
    "class CustomAccuracy2(Metric):\n",
    "    def __init__(self):\n",
    "        self.correct = 0\n",
    "        self.total = 0\n",
    "\n",
    "    def reset(self):\n",
    "        self.correct = 0\n",
    "        self.total = 0\n",
    "\n",
    "    def accumulate(self, learn):\n",
    "        # Get max probability of the final dimension\n",
    "        preds = learn.pred.argmax(dim=-1)\n",
    "        self.correct += (preds == learn.y).sum().item()\n",
    "        self.total += len(learn.y)\n",
    "\n",
    "    @property\n",
    "    def value(self):\n",
    "        return (self.correct / self.total) * 100 if self.total > 0 else None\n",
    "\n",
    "    @property\n",
    "    def name(self):\n",
    "        return \"meowMeow2\""
   ]
  },
  {
   "cell_type": "code",
   "execution_count": 82,
   "id": "16e469d3-9769-4da0-b1f8-48d1a9ffca2d",
   "metadata": {},
   "outputs": [],
   "source": [
    "class MixAccuracy(Metric):\n",
    "    def __init__(self):\n",
    "        self.c1 = CustomAccuracy1()\n",
    "        self.c2 = CustomAccuracy2()\n",
    "\n",
    "    def reset(self):\n",
    "        self.c1.reset()\n",
    "        self.c2.reset()\n",
    "\n",
    "    def accumulate(self, learn):\n",
    "        self.c1.accumulate(learn)\n",
    "        self.c2.accumulate(learn)\n",
    "\n",
    "    @property\n",
    "    def value(self):\n",
    "        return self.c1.value, self.c2.value\n",
    "\n",
    "    @property\n",
    "    def name(self):\n",
    "        return f\"{self.c1.name}_{self.c2.name}\""
   ]
  },
  {
   "cell_type": "code",
   "execution_count": null,
   "id": "9a99ca5d-17d4-4a22-aeed-f2a86a2ac2ae",
   "metadata": {},
   "outputs": [],
   "source": []
  },
  {
   "cell_type": "code",
   "execution_count": 83,
   "id": "e2f15724-6c87-4b97-85f0-3612d995e242",
   "metadata": {},
   "outputs": [],
   "source": [
    "learner = Learner(dls, model, opt_func=BasicOptimizer, loss_func=loss_fn, metrics=MixAccuracy)"
   ]
  },
  {
   "cell_type": "code",
   "execution_count": 85,
   "id": "880e2e11-a14c-495c-9121-f70783e48967",
   "metadata": {},
   "outputs": [
    {
     "data": {
      "text/html": [
       "\n",
       "<style>\n",
       "    /* Turns off some styling */\n",
       "    progress {\n",
       "        /* gets rid of default border in Firefox and Opera. */\n",
       "        border: none;\n",
       "        /* Needs to be in here for Safari polyfill so background images work as expected. */\n",
       "        background-size: auto;\n",
       "    }\n",
       "    progress:not([value]), progress:not([value])::-webkit-progress-bar {\n",
       "        background: repeating-linear-gradient(45deg, #7e7e7e, #7e7e7e 10px, #5c5c5c 10px, #5c5c5c 20px);\n",
       "    }\n",
       "    .progress-bar-interrupted, .progress-bar-interrupted::-webkit-progress-bar {\n",
       "        background: #F44336;\n",
       "    }\n",
       "</style>\n"
      ],
      "text/plain": [
       "<IPython.core.display.HTML object>"
      ]
     },
     "metadata": {},
     "output_type": "display_data"
    },
    {
     "data": {
      "text/html": [
       "<table border=\"1\" class=\"dataframe\">\n",
       "  <thead>\n",
       "    <tr style=\"text-align: left;\">\n",
       "      <th>epoch</th>\n",
       "      <th>train_loss</th>\n",
       "      <th>valid_loss</th>\n",
       "      <th>meowMeow1_meowMeow2</th>\n",
       "      <th>time</th>\n",
       "    </tr>\n",
       "  </thead>\n",
       "  <tbody>\n",
       "    <tr>\n",
       "      <td>0</td>\n",
       "      <td>0.339499</td>\n",
       "      <td>0.337384</td>\n",
       "      <td>(90.41, 90.41)</td>\n",
       "      <td>00:06</td>\n",
       "    </tr>\n",
       "    <tr>\n",
       "      <td>1</td>\n",
       "      <td>0.328377</td>\n",
       "      <td>0.326924</td>\n",
       "      <td>(90.64999999999999, 90.64999999999999)</td>\n",
       "      <td>00:05</td>\n",
       "    </tr>\n",
       "  </tbody>\n",
       "</table>"
      ],
      "text/plain": [
       "<IPython.core.display.HTML object>"
      ]
     },
     "metadata": {},
     "output_type": "display_data"
    }
   ],
   "source": [
    "df = learner.fit(2, lr=1e-2)\n",
    "df"
   ]
  },
  {
   "cell_type": "code",
   "execution_count": 26,
   "id": "c9241482-13d9-493f-8c96-14d8eeea07e4",
   "metadata": {},
   "outputs": [
    {
     "name": "stdout",
     "output_type": "stream",
     "text": [
      "Epoch 1\n",
      "-------------------------------\n",
      "BATCH: 0 of 234.375 batches\n",
      "loss: 0.000407  [  256/60000]\n",
      "BATCH: 100 of 234.375 batches\n",
      "loss: 0.000389  [25856/60000]\n",
      "BATCH: 200 of 234.375 batches\n",
      "loss: 0.000223  [51456/60000]\n",
      "Test Error: \n",
      " Accuracy: 98.3%, Avg loss: 0.091710 \n",
      "\n",
      "Epoch 2\n",
      "-------------------------------\n",
      "BATCH: 0 of 234.375 batches\n",
      "loss: 0.000387  [  256/60000]\n",
      "BATCH: 100 of 234.375 batches\n",
      "loss: 0.000370  [25856/60000]\n",
      "BATCH: 200 of 234.375 batches\n",
      "loss: 0.000211  [51456/60000]\n",
      "Test Error: \n",
      " Accuracy: 98.3%, Avg loss: 0.092077 \n",
      "\n",
      "Epoch 3\n",
      "-------------------------------\n",
      "BATCH: 0 of 234.375 batches\n",
      "loss: 0.000368  [  256/60000]\n",
      "BATCH: 100 of 234.375 batches\n",
      "loss: 0.000347  [25856/60000]\n",
      "BATCH: 200 of 234.375 batches\n",
      "loss: 0.000199  [51456/60000]\n",
      "Test Error: \n",
      " Accuracy: 98.3%, Avg loss: 0.092462 \n",
      "\n",
      "Epoch 4\n",
      "-------------------------------\n",
      "BATCH: 0 of 234.375 batches\n",
      "loss: 0.000351  [  256/60000]\n",
      "BATCH: 100 of 234.375 batches\n",
      "loss: 0.000332  [25856/60000]\n",
      "BATCH: 200 of 234.375 batches\n",
      "loss: 0.000191  [51456/60000]\n",
      "Test Error: \n",
      " Accuracy: 98.3%, Avg loss: 0.092770 \n",
      "\n",
      "Epoch 5\n",
      "-------------------------------\n",
      "BATCH: 0 of 234.375 batches\n",
      "loss: 0.000335  [  256/60000]\n",
      "BATCH: 100 of 234.375 batches\n",
      "loss: 0.000314  [25856/60000]\n",
      "BATCH: 200 of 234.375 batches\n",
      "loss: 0.000182  [51456/60000]\n",
      "Test Error: \n",
      " Accuracy: 98.3%, Avg loss: 0.093104 \n",
      "\n",
      "Epoch 6\n",
      "-------------------------------\n",
      "BATCH: 0 of 234.375 batches\n",
      "loss: 0.000316  [  256/60000]\n",
      "BATCH: 100 of 234.375 batches\n",
      "loss: 0.000302  [25856/60000]\n",
      "BATCH: 200 of 234.375 batches\n",
      "loss: 0.000176  [51456/60000]\n",
      "Test Error: \n",
      " Accuracy: 98.3%, Avg loss: 0.093378 \n",
      "\n",
      "Epoch 7\n",
      "-------------------------------\n",
      "BATCH: 0 of 234.375 batches\n",
      "loss: 0.000306  [  256/60000]\n",
      "BATCH: 100 of 234.375 batches\n",
      "loss: 0.000289  [25856/60000]\n",
      "BATCH: 200 of 234.375 batches\n",
      "loss: 0.000170  [51456/60000]\n",
      "Test Error: \n",
      " Accuracy: 98.3%, Avg loss: 0.093741 \n",
      "\n",
      "Epoch 8\n",
      "-------------------------------\n",
      "BATCH: 0 of 234.375 batches\n",
      "loss: 0.000289  [  256/60000]\n",
      "BATCH: 100 of 234.375 batches\n",
      "loss: 0.000276  [25856/60000]\n",
      "BATCH: 200 of 234.375 batches\n",
      "loss: 0.000161  [51456/60000]\n",
      "Test Error: \n",
      " Accuracy: 98.3%, Avg loss: 0.093958 \n",
      "\n",
      "Epoch 9\n",
      "-------------------------------\n",
      "BATCH: 0 of 234.375 batches\n",
      "loss: 0.000280  [  256/60000]\n",
      "BATCH: 100 of 234.375 batches\n",
      "loss: 0.000265  [25856/60000]\n",
      "BATCH: 200 of 234.375 batches\n",
      "loss: 0.000158  [51456/60000]\n",
      "Test Error: \n",
      " Accuracy: 98.3%, Avg loss: 0.094299 \n",
      "\n",
      "Epoch 10\n",
      "-------------------------------\n",
      "BATCH: 0 of 234.375 batches\n",
      "loss: 0.000267  [  256/60000]\n",
      "BATCH: 100 of 234.375 batches\n",
      "loss: 0.000254  [25856/60000]\n",
      "BATCH: 200 of 234.375 batches\n",
      "loss: 0.000151  [51456/60000]\n",
      "Test Error: \n",
      " Accuracy: 98.3%, Avg loss: 0.094561 \n",
      "\n",
      "Done!\n"
     ]
    }
   ],
   "source": [
    "epochs = 5\n",
    "for t in range(epochs):\n",
    "    print(f\"Epoch {t+1}\\n-------------------------------\")\n",
    "    train(train_dataloader, model, loss_fn, optimizer)\n",
    "    test(test_dataloader, model, loss_fn)\n",
    "print(\"Done!\")"
   ]
  },
  {
   "cell_type": "code",
   "execution_count": null,
   "id": "0510bf8b-eac9-46a5-a77a-ffc5afdf7497",
   "metadata": {},
   "outputs": [],
   "source": []
  }
 ],
 "metadata": {
  "kernelspec": {
   "display_name": "Python 3 (ipykernel)",
   "language": "python",
   "name": "python3"
  },
  "language_info": {
   "codemirror_mode": {
    "name": "ipython",
    "version": 3
   },
   "file_extension": ".py",
   "mimetype": "text/x-python",
   "name": "python",
   "nbconvert_exporter": "python",
   "pygments_lexer": "ipython3",
   "version": "3.11.10"
  }
 },
 "nbformat": 4,
 "nbformat_minor": 5
}
